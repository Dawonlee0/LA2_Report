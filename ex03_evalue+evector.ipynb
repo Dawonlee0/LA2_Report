{
  "nbformat": 4,
  "nbformat_minor": 0,
  "metadata": {
    "colab": {
      "provenance": []
    },
    "kernelspec": {
      "name": "python3",
      "display_name": "Python 3"
    },
    "language_info": {
      "name": "python"
    }
  },
  "cells": [
    {
      "cell_type": "markdown",
      "source": [
        "### 0. import libraries"
      ],
      "metadata": {
        "id": "aXPXuahDra7_"
      }
    },
    {
      "cell_type": "code",
      "execution_count": 10,
      "metadata": {
        "id": "79Reaf9WrPKr"
      },
      "outputs": [],
      "source": [
        "import numpy as np\n",
        "import numpy.linalg as npl # Linear Aigebra\n",
        "import matplotlib.pyplot as plt\n"
      ]
    },
    {
      "cell_type": "markdown",
      "source": [
        "### <eigen values & eigen vectors of A >\n",
        "$ Au = ₩lambda u $"
      ],
      "metadata": {
        "id": "b8hq5KbYryi0"
      }
    },
    {
      "cell_type": "code",
      "source": [
        "A = np.array([[4,2], [1,3]])\n",
        "\n",
        "print(\"A:\")\n",
        "print(A, \"\\n\")\n",
        "\n",
        "e_values, e_vectors = npl.eig(A)\n",
        "print(\"A의 고윳값 = \", e_values)\n",
        "print(\"A의 고유벡터 = \", e_vectors,\"\\n\") # 프로그램 상에서 고유벡터 구할 때는 길이가 1인단위벡터로 나와서 자연수가 아님\n",
        "\n",
        "# 2 -1\n",
        "# 1  1\n",
        "\n",
        "# eigen vector u1, u2\n",
        "u1 = np.vstack(e_vectors[:, 0]) # 0번째 열만 가지고 와라\n",
        "u2 = np.vstack(e_vectors[:, 1])\n",
        "print(\"u1\", u1)\n",
        "print(\"u2\", u2)\n",
        "\n",
        "# eigen value lamda1, lambda2\n",
        "a1, a2 = e_values[0], e_values[1]\n",
        "print(\"\\neigen values: \", a1, a2, \"\\n\")\n",
        "\n",
        "# Check\n",
        "print(\"Au1: \", np.dot(A, u1))\n",
        "print(\"a1 * u1: \", a1*u1, \"\\n\")\n",
        "\n",
        "print(\"Au2: \", np.dot(A, u2))\n",
        "print(\"a2*u2\", a2*u2)\n",
        "\n"
      ],
      "metadata": {
        "colab": {
          "base_uri": "https://localhost:8080/"
        },
        "id": "yY-fQeOGr3Mg",
        "outputId": "ba381eb9-a038-49dc-bce4-65e10a83b55d"
      },
      "execution_count": 18,
      "outputs": [
        {
          "output_type": "stream",
          "name": "stdout",
          "text": [
            "A:\n",
            "[[4 2]\n",
            " [1 3]] \n",
            "\n",
            "A의 고윳값 =  [5. 2.]\n",
            "A의 고유벡터 =  [[ 0.89442719 -0.70710678]\n",
            " [ 0.4472136   0.70710678]] \n",
            "\n",
            "u1 [[0.89442719]\n",
            " [0.4472136 ]]\n",
            "u2 [[-0.70710678]\n",
            " [ 0.70710678]]\n",
            "\n",
            "eigen values:  5.0 2.0 \n",
            "\n",
            "Au1:  [[4.47213595]\n",
            " [2.23606798]]\n",
            "a1 * u1:  [[4.47213595]\n",
            " [2.23606798]] \n",
            "\n",
            "Au2:  [[-1.41421356]\n",
            " [ 1.41421356]]\n",
            "a2*u2 [[-1.41421356]\n",
            " [ 1.41421356]]\n"
          ]
        }
      ]
    },
    {
      "cell_type": "code",
      "source": [
        "B = np.array([[5,2,0], [2,5,0], [3,4,6]])\n",
        "w2, v2 = npl.eig(B) # B의 교윳값 고유벡터 계산\n",
        "\n",
        "print(\"B의 고윳값 = \", w2)\n",
        "print(\"B의 고윳벡터 = \", v2)\n"
      ],
      "metadata": {
        "colab": {
          "base_uri": "https://localhost:8080/"
        },
        "id": "Xdap4cSmthwT",
        "outputId": "54b26dff-aaf7-4f6b-8bf3-f33fa35e1ce8"
      },
      "execution_count": 19,
      "outputs": [
        {
          "output_type": "stream",
          "name": "stdout",
          "text": [
            "B의 고윳값 =  [6. 7. 3.]\n",
            "B의 고윳벡터 =  [[ 0.          0.14002801  0.6882472 ]\n",
            " [ 0.          0.14002801 -0.6882472 ]\n",
            " [ 1.          0.98019606  0.22941573]]\n"
          ]
        }
      ]
    }
  ]
}