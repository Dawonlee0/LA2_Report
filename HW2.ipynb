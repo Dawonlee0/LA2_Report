{
  "nbformat": 4,
  "nbformat_minor": 0,
  "metadata": {
    "colab": {
      "provenance": []
    },
    "kernelspec": {
      "name": "python3",
      "display_name": "Python 3"
    },
    "language_info": {
      "name": "python"
    }
  },
  "cells": [
    {
      "cell_type": "markdown",
      "source": [
        "### 라이브러리 선언"
      ],
      "metadata": {
        "id": "VcKvO8KcJ9AJ"
      }
    },
    {
      "cell_type": "code",
      "source": [
        "import numpy as np\n",
        "import matplotlib.pyplot as plt\n",
        "from matplotlib.patches import Polygon\n",
        "\n",
        "INF = 1000  # 그림판 크기\n",
        "LEN = 100   # 처음 사각형의 크기"
      ],
      "metadata": {
        "id": "uwkBDldBERem"
      },
      "execution_count": 1030,
      "outputs": []
    },
    {
      "cell_type": "markdown",
      "source": [
        "### 축 그리기 및 사각형 그리기"
      ],
      "metadata": {
        "id": "eSiS-XHya1FY"
      }
    },
    {
      "cell_type": "code",
      "source": [
        "# x, y축을 그리는 함수\n",
        "def draw_axis(ax):\n",
        "  ax.axhline(0, color='black', alpha=0.3)  # x-axis line\n",
        "  ax.axvline(0, color='black', alpha=0.3)  # y-axis line\n",
        "  ax.set_xlim(-INF, INF)\n",
        "  ax.set_ylim(-INF, INF)\n",
        "  ax.set_aspect('equal')  # 정사각형 모양으로 backboard 그리기"
      ],
      "metadata": {
        "id": "_fc5wJBeKXDN"
      },
      "execution_count": 1031,
      "outputs": []
    },
    {
      "cell_type": "code",
      "source": [
        "# 주어진 4개의 점을 이용하여 직사각형을 그리는 함수\n",
        "def draw_rectangle(ax, p1, p2, p3, p4):\n",
        "  my_polygon = Polygon([p1, p2, p3, p4])\n",
        "  ax.add_patch(my_polygon)"
      ],
      "metadata": {
        "id": "0XC7sFs9Hf3e"
      },
      "execution_count": 1032,
      "outputs": []
    },
    {
      "cell_type": "code",
      "source": [],
      "metadata": {
        "id": "mhuAFo7iUZIR"
      },
      "execution_count": 1032,
      "outputs": []
    },
    {
      "cell_type": "code",
      "source": [
        "# 물체를 그리는 함수 \n",
        "def draw_object(ax):\n",
        "  p1 = np.array([0, 0])\n",
        "  p2 = np.array([LEN, 0])\n",
        "  p3 = np.array([LEN, LEN])\n",
        "  p4 = np.array([0, LEN])\n",
        "\n",
        "  draw_rectangle(ax, p1, p2, p3, p4)"
      ],
      "metadata": {
        "id": "9_fAE1_kPjsv"
      },
      "execution_count": 1033,
      "outputs": []
    },
    {
      "cell_type": "code",
      "source": [
        "# def draw_object(ax):\n",
        "#     angle = 45 # 회전 각도\n",
        "#     theta = np.deg2rad(angle)\n",
        "#     c, s = np.cos(theta), np.sin(theta)\n",
        "#     R = np.array(((c, -s), (s, c))) # 회전 행렬\n",
        "\n",
        "#     LEN = 400 # 사각형 크기\n",
        "#     p1 = np.array([-LEN/2, -LEN/2])\n",
        "#     p2 = np.array([LEN/2, -LEN/2])\n",
        "#     p3 = np.array([LEN/2, LEN/2])\n",
        "#     p4 = np.array([-LEN/2, LEN/2])\n",
        "\n",
        "#     # 회전 적용\n",
        "#     p1, p2, p3, p4 = np.matmul(R, p1), np.matmul(R, p2), np.matmul(R, p3), np.matmul(R, p4)\n",
        "\n",
        "#     draw_rectangle(ax, p1, p2, p3, p4)\n"
      ],
      "metadata": {
        "id": "-HBhDlozUb84"
      },
      "execution_count": 1034,
      "outputs": []
    },
    {
      "cell_type": "code",
      "source": [
        "# 그림판 선언 및 크기 설정\n",
        "fig, ax = plt.subplots(figsize=(7,7))\n",
        "\n",
        "# 축 그리기\n",
        "draw_axis(ax)\n",
        "\n",
        "# 물체 그리기\n",
        "draw_object(ax)\n",
        "\n",
        "plt.show()"
      ],
      "metadata": {
        "colab": {
          "base_uri": "https://localhost:8080/",
          "height": 605
        },
        "id": "L3r3ar9FQDKI",
        "outputId": "12faef34-7c5c-462d-d486-7cb73e30bd59"
      },
      "execution_count": 1035,
      "outputs": [
        {
          "output_type": "display_data",
          "data": {
            "text/plain": [
              "<Figure size 700x700 with 1 Axes>"
            ],
            "image/png": "[encoded data removed]"
          },
          "metadata": {}
        }
      ]
    },
    {
      "cell_type": "markdown",
      "source": [
        "### 본론\n",
        "#### 1. 변환 구현\n",
        "* translate(p, dx, dy)\n",
        "* rotate(p, theta)  \n",
        "* scale(p, sx, sy)  \n",
        "* shear_x(p, sx)  \n",
        "* shear_y(p, sy)  \n",
        "* reflect_x(p)  \n",
        "* reflect_y(p)   \n",
        "* ..."
      ],
      "metadata": {
        "id": "6txnl6M2PeUz"
      }
    },
    {
      "cell_type": "code",
      "source": [
        "# 점 p를 x축 방향으로 dx만큼, y축 방향으로 dy만큼 이동시킨 점 q를 구할 것\n",
        "# q = T(dx, dy) p1\n",
        "def translate(p, dx, dy):\n",
        "  # 1. 동차좌표계 (homogeneous coordinate)으로 변환\n",
        "  hp = np.array([p[0], p[1], 1.0])\n",
        "\n",
        "  # 2. 이동 변환 행렬 생성\n",
        "  m = np.array([[1.0, 0.0, dx], [0.0, 1.0, dy], [0.0, 0.0, 1.0]])\n",
        "  \n",
        "  # 3. 행렬과 벡터의 곱\n",
        "  q = np.dot(m, hp)  # (3,3) x (3,1) -> (3,1)\n",
        "  #print(q)\n",
        "\n",
        "  # 4. 2차원 좌표계로 변환\n",
        "  q = np.array([q[0], q[1]])\n",
        "  return q"
      ],
      "metadata": {
        "id": "g1iKgeNoP-Bu"
      },
      "execution_count": 1036,
      "outputs": []
    },
    {
      "cell_type": "markdown",
      "source": [
        "#### 2. 파트 그리기\n",
        "* draw_cockpit(p1, p2, p3, p4)    # 중앙 조종석\n",
        "* draw_left_arm(p1, p2, p3, p4)   # 왼쪽 날개축\n",
        "* draw_left_wing(p1, p2, p3, p4)  # 왼쪽 날개\n",
        "* draw_right_arm(p1, p2, p3, p4)  # 오른쪽 날개축\n",
        "* draw_right_wing(p1, p2, p3, p4) # 오른쪽 날개"
      ],
      "metadata": {
        "id": "E_jHSezpTC-9"
      }
    },
    {
      "cell_type": "code",
      "source": [
        "def scale(point, sx, sy):\n",
        "  \"\"\"\n",
        "  point를 (sx, sy)만큼 확대/축소하여 반환\n",
        "  \"\"\"\n",
        "  S = np.array([[sx, 0], [0, sy]])  # 확대/축소 행렬\n",
        "  return np.matmul(S, point)\n",
        "\n",
        "def rotate(p, theta):\n",
        "    \"\"\"주어진 점 p를 theta 각도만큼 시계 방향으로 회전시킨 새로운 점을 반환합니다.\"\"\"\n",
        "    c, s = np.cos(theta), np.sin(theta)\n",
        "    R = np.array(((c, -s), (s, c)))\n",
        "    return np.matmul(R, p)\n",
        "\n",
        "def shear(p, s):\n",
        "    # s[0]: x축으로 기울기, s[1]: y축으로 기울기\n",
        "    x, y = p\n",
        "    return np.array([x + s[0] * y, y + s[1] * x])\n",
        "\n"
      ],
      "metadata": {
        "id": "bJttua9Gdn0c"
      },
      "execution_count": 1037,
      "outputs": []
    },
    {
      "cell_type": "code",
      "source": [
        "def draw_cockpit(ax, p1, p2, p3, p4):  # 중앙 조종석\n",
        "  # 1. 사각형을 원점으로 이동 변환: T(-LEN/2, -LEN/2)\n",
        "  # q = T(-LEN/2, -LEN/2)p\n",
        "  q1 = translate(p1, -LEN/2, -LEN/2)\n",
        "  q2 = translate(p2, -LEN/2, -LEN/2)\n",
        "  q3 = translate(p3, -LEN/2, -LEN/2)\n",
        "  q4 = translate(p4, -LEN/2, -LEN/2)\n",
        "\n",
        "  \n",
        "  # 2. 크기 변환: S(5, 5)\n",
        "  s = 5\n",
        "  q1 = scale(q1, s, s)\n",
        "  q2 = scale(q2, s, s)\n",
        "  q3 = scale(q3, s, s)\n",
        "  q4 = scale(q4, s, s)\n",
        "  \n",
        "  # 3. 회전 변환: R(pi/4)\n",
        "  q1 = rotate(q1, 3.14/4.0)\n",
        "  q2 = rotate(q2, 3.14/4.0)\n",
        "  q3 = rotate(q3, 3.14/4.0)\n",
        "  q4 = rotate(q4, 3.14/4.0)\n",
        "  \n",
        "\n",
        "  # 4. polygon 그리기 \n",
        "  draw_rectangle(ax, q1, q2, q3, q4)"
      ],
      "metadata": {
        "id": "6C7a4CH4HSj0"
      },
      "execution_count": 1038,
      "outputs": []
    },
    {
      "cell_type": "code",
      "source": [
        "# x축 대칭 함수\n",
        "def reflect_x(p):\n",
        "  return np.array([-p[0], p[1]])\n",
        "\n",
        "# 오른쪽 날개 연결 \n",
        "def draw_right_arm(ax, r1, r2, r3, r4):  \n",
        "  # 1. 사각형을 원점으로 이동 변환: T(-LEN/2, -LEN/2)\n",
        "  # q = T(-LEN/2, -LEN/2)p\n",
        "  rr1 = translate(r1, -LEN/2, -LEN/2)\n",
        "  rr2 = translate(r2, -LEN/2, -LEN/2)\n",
        "  rr3 = translate(r3, -LEN/2, -LEN/2)\n",
        "  rr4 = translate(r4, -LEN/2, -LEN/2)\n",
        "\n",
        "  # 2. 크기 변환: S(2, 0.5)\n",
        "  s = (2, 6)\n",
        "  rr1 = scale(rr1, *s)\n",
        "  rr2 = scale(rr2, *s)\n",
        "  rr3 = scale(rr3, *s)\n",
        "  rr4 = scale(rr4, *s)\n",
        "  \n",
        "  # 3. 회전 변환: R(pi/4)\n",
        "  range = 2.5\n",
        "  rr1 = rotate(rr1, 3.14/range)\n",
        "  rr2 = rotate(rr2, 3.14/range)\n",
        "  rr3 = rotate(rr3, 3.14/range)\n",
        "  rr4 = rotate(rr4, 3.14/range)\n",
        "  \n",
        "  # 4. 이동 변환: T(LEN/2, 0)\n",
        "  x = 20\n",
        "  y = 40\n",
        "  rr1 = translate(rr1, x, y)\n",
        "  rr2 = translate(rr2, x, y)\n",
        "  rr3 = translate(rr3, x, y)\n",
        "  rr4 = translate(rr4, x, y)\n",
        "\n",
        "  # 5. polygon 그리기 \n",
        "  draw_rectangle(ax, rr1, rr2, rr3, rr4)\n",
        "\n",
        "  # 6. x축 대칭 변환: Rx\n",
        "  rr1 = reflect_x(rr1)\n",
        "  rr2 = reflect_x(rr2)\n",
        "  rr3 = reflect_x(rr3)\n",
        "  rr4 = reflect_x(rr4)\n",
        "\n",
        "  # 7. polygon 그리기 \n",
        "  draw_rectangle(ax, rr1, rr2, rr3, rr4)\n",
        "\n",
        "  # 8. y축 대칭 변환: Ry\n",
        "  rr1 = flip_y(rr1)\n",
        "  rr2 = flip_y(rr2)\n",
        "  rr3 = flip_y(rr3)\n",
        "  rr4 = flip_y(rr4)\n",
        "\n",
        "  # 9. polygon 그리기 \n",
        "  draw_rectangle(ax, rr1, rr2, rr3, rr4)\n",
        "\n",
        "  # 10. x축 대칭 변환: Rx (원래대로)\n",
        "  rr1 = reflect_x(rr1)\n",
        "  rr2 = reflect_x(rr2)\n",
        "  rr3 = reflect_x(rr3)\n",
        "  rr4 = reflect_x(rr4)\n",
        "\n",
        "  # 11. polygon 그리기 \n",
        "  draw_rectangle(ax, rr1, rr2, rr3, rr4)"
      ],
      "metadata": {
        "id": "rzHGWfbyeYdI"
      },
      "execution_count": 1039,
      "outputs": []
    },
    {
      "cell_type": "code",
      "source": [
        "# y축 대칭 함수\n",
        "def reflect_y(p):\n",
        "    return np.array([-p[0], p[1]])\n",
        "\n",
        "# 그냥 날개 \n",
        "def draw_right_wing(ax, r1, r2, r3, r4):\n",
        "    # 1. 사각형을 원점으로 이동 변환\n",
        "    rr1 = translate(r1, -LEN/2, -LEN/2)\n",
        "    rr2 = translate(r2, -LEN/2, -LEN/2)\n",
        "    rr3 = translate(r3, -LEN/2, -LEN/2)\n",
        "    rr4 = translate(r4, -LEN/2, -LEN/2)\n",
        "\n",
        "    # 2. 크기 변환\n",
        "    s = (2, 8)\n",
        "    rr1 = scale(rr1, *s)\n",
        "    rr2 = scale(rr2, *s)\n",
        "    rr3 = scale(rr3, *s)\n",
        "    rr4 = scale(rr4, *s)\n",
        "\n",
        "    # 3. 회전 변환\n",
        "    range = 1\n",
        "    rr1 = rotate(rr1, 3.14/range)\n",
        "    rr2 = rotate(rr2, 3.14/range)\n",
        "    rr3 = rotate(rr3, 3.14/range)\n",
        "    rr4 = rotate(rr4, 3.14/range)\n",
        "\n",
        "    # 4. 기울기 변환: shear\n",
        "    shear_rate = 0.5\n",
        "    rr1 = shear(rr1, [0, shear_rate])\n",
        "    rr2 = shear(rr2, [0, shear_rate])\n",
        "    rr3 = shear(rr3, [0, shear_rate])\n",
        "    rr4 = shear(rr4, [0, shear_rate])\n",
        "\n",
        "    # 5. 이동 변환\n",
        "    xx = 800\n",
        "    yy = -300\n",
        "    rr1 = translate(rr1, xx, yy)\n",
        "    rr2 = translate(rr2, xx, yy)\n",
        "    rr3 = translate(rr3, xx, yy)\n",
        "    rr4 = translate(rr4, xx, yy)\n",
        "\n",
        "    # 9. polygon 그리기 \n",
        "    draw_rectangle(ax, rr1, rr2, rr3, rr4)\n",
        "\n",
        "\n",
        "    # 6. y축 대칭 변환: Ry\n",
        "    rr1 = reflect_y(rr1)\n",
        "    rr2 = reflect_y(rr2)\n",
        "    rr3 = reflect_y(rr3)\n",
        "    rr4 = reflect_y(rr4)\n",
        "\n",
        "    # 7. polygon 그리기\n",
        "    draw_rectangle(ax, rr1, rr2, rr3, rr4)\n"
      ],
      "metadata": {
        "id": "TIFabSx1x3uc"
      },
      "execution_count": 1040,
      "outputs": []
    },
    {
      "cell_type": "code",
      "execution_count": 1041,
      "metadata": {
        "id": "hMI0xB0pDlnU"
      },
      "outputs": [],
      "source": [
        "# 2. tiefigher 그리기\n",
        "def draw_object(ax):\n",
        "  p1 = np.array([0, 0])\n",
        "  p2 = np.array([LEN, 0])\n",
        "  p3 = np.array([LEN, LEN])\n",
        "  p4 = np.array([0, LEN])\n",
        "\n",
        "  r1 = np.array([LEN, -LEN/2])\n",
        "  r2 = np.array([LEN+LEN/2, -LEN/2])\n",
        "  r3 = np.array([LEN+LEN/2, LEN/2])\n",
        "  r4 = np.array([LEN, LEN/2])\n",
        "\n",
        "  rr1 = np.array([LEN, -LEN/2])\n",
        "  rr2 = np.array([LEN+LEN/2, -LEN/2])\n",
        "  rr3 = np.array([LEN+LEN/2, LEN/2])\n",
        "  rr4 = np.array([LEN, LEN/2])\n",
        "\n",
        "  # 1. 중앙 조종석 그리기\n",
        "  draw_cockpit(ax, p1, p2, p3, p4)\n",
        "  draw_right_arm(ax, r1, r2, r3, r4)\n",
        "  draw_right_wing(ax, rr1, rr2, rr3, rr4)"
      ]
    },
    {
      "cell_type": "markdown",
      "source": [
        "### 3. main"
      ],
      "metadata": {
        "id": "24hO1zQaHiFJ"
      }
    },
    {
      "cell_type": "code",
      "source": [
        "# 그림판 선언 및 크기 설정\n",
        "fig, ax = plt.subplots(figsize=(7,7))\n",
        "\n",
        "# 축 그리기\n",
        "draw_axis(ax)\n",
        "\n",
        "# 물체 그리기\n",
        "draw_object(ax)\n",
        "\n",
        "plt.show()"
      ],
      "metadata": {
        "colab": {
          "base_uri": "https://localhost:8080/",
          "height": 605
        },
        "id": "1Bdz-KxWLLHb",
        "outputId": "8ad40c54-4756-4339-856c-04ed169d1e11"
      },
      "execution_count": 1042,
      "outputs": [
        {
          "output_type": "display_data",
          "data": {
            "text/plain": [
              "<Figure size 700x700 with 1 Axes>"
            ],
            "image/png": "[encoded data removed]"
          },
          "metadata": {}
        }
      ]
    },
    {
      "cell_type": "code",
      "source": [
        "# 점 p를 x축 방향으로 dx만큼, y축 방향으로 dy만큼 이동시킨 점 q를 구할 것\n",
        "# q = T(dx, dy) p1\n",
        "\n",
        "def translate(p, dx, dy):\n",
        "\n",
        "  # 1. 동차좌표계 (homogeneous coordinate)으로 변환\n",
        "  hp = np.array([p[0], p[1], 1.0])\n",
        "\n",
        "  # 2. 이동 변환 행렬 생성\n",
        "  m = np.array([[1.0, 0.0, dx], [0.0, 1.0, dy], [0.0, 0.0, 1.0]])\n",
        "\n",
        "  # 3. 행렬과 벡터의 곱 q = np.dot(m, hp) #print(q)\n",
        "  q = np.dot(m, hp) # (3,3) x (3,1) -> (3,1)\n",
        "  #print(q)\n",
        "\n",
        "  # 4. 2차원 좌표계로 변환\n",
        "  q = np.array([q[0], q[1]])\n",
        "\n",
        "  return q"
      ],
      "metadata": {
        "id": "c9BrqU5Lam8s"
      },
      "execution_count": 1043,
      "outputs": []
    }
  ]
}